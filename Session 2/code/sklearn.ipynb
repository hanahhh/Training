{
 "cells": [
  {
   "attachments": {},
   "cell_type": "markdown",
   "metadata": {},
   "source": [
    "Import library"
   ]
  },
  {
   "cell_type": "code",
   "execution_count": 31,
   "metadata": {},
   "outputs": [],
   "source": [
    "from kmeans import load_data\n",
    "from sklearn import cluster\n",
    "from scipy.sparse import csr_matrix\n",
    "import numpy as np\n",
    "from sklearn.svm import LinearSVC, SVC"
   ]
  },
  {
   "attachments": {},
   "cell_type": "markdown",
   "metadata": {},
   "source": [
    "Kmeans"
   ]
  },
  {
   "cell_type": "code",
   "execution_count": 2,
   "metadata": {},
   "outputs": [],
   "source": [
    "X_train, Y_train = load_data(\"../../Session 1/source/20news-bydate/data_tf_idf.txt\")"
   ]
  },
  {
   "cell_type": "code",
   "execution_count": 13,
   "metadata": {},
   "outputs": [],
   "source": [
    "def clusteringWithKMeans():\n",
    "    X = csr_matrix(X_train)\n",
    "    print(\"========\")\n",
    "    kmeans = cluster.KMeans(\n",
    "        n_clusters=8, \n",
    "        init=\"random\",\n",
    "        n_init=10,\n",
    "        tol=1e-3,\n",
    "        random_state=42\n",
    "        ).fit(X)\n",
    "    return kmeans.labels_"
   ]
  },
  {
   "cell_type": "code",
   "execution_count": 14,
   "metadata": {},
   "outputs": [
    {
     "name": "stdout",
     "output_type": "stream",
     "text": [
      "========\n"
     ]
    }
   ],
   "source": [
    "y_pred = clusteringWithKMeans()"
   ]
  },
  {
   "cell_type": "code",
   "execution_count": 15,
   "metadata": {},
   "outputs": [],
   "source": [
    "def compute_accuracy(Y_pred, Y):\n",
    "    matches = len(np.where(Y_pred == Y)[0])\n",
    "    total = len(Y_pred)\n",
    "    return matches/total"
   ]
  },
  {
   "cell_type": "code",
   "execution_count": 19,
   "metadata": {},
   "outputs": [
    {
     "data": {
      "text/plain": [
       "0.04361668258516396"
      ]
     },
     "execution_count": 19,
     "metadata": {},
     "output_type": "execute_result"
    }
   ],
   "source": [
    "compute_accuracy(y_pred, Y_train)"
   ]
  },
  {
   "attachments": {},
   "cell_type": "markdown",
   "metadata": {},
   "source": [
    "Linear SVM"
   ]
  },
  {
   "cell_type": "markdown",
   "metadata": {},
   "source": []
  },
  {
   "cell_type": "code",
   "execution_count": 27,
   "metadata": {},
   "outputs": [],
   "source": [
    "def compute_accuracy_svm(predicted_y, expected_y):\n",
    "    matches = np.equal(predicted_y, expected_y)\n",
    "    accuracy = np.sum(matches.astype(float) / len(expected_y))\n",
    "    return accuracy"
   ]
  },
  {
   "cell_type": "code",
   "execution_count": 25,
   "metadata": {},
   "outputs": [],
   "source": [
    "def classifying_with_linear_SVMs():\n",
    "    svm_train_X, svm_train_Y = load_data(\"../../Session 1/source/20news-bydate/20news-train-tfidf.txt\")\n",
    "    classifier = LinearSVC(C = 10.0, tol = 0.001, verbose=True)\n",
    "    classifier.fit(svm_train_X, svm_train_Y)\n",
    "\n",
    "    svm_test_X, svm_test_Y = load_data(\"../../Session 1//source/20news-bydate/20news-test-tfidf.txt\")\n",
    "    predicted_y = classifier.predict(svm_test_X)\n",
    "    accuracy = compute_accuracy_svm(predicted_y, svm_test_Y)\n",
    "    print (\"Accuracy: \" ,accuracy)"
   ]
  },
  {
   "cell_type": "code",
   "execution_count": 28,
   "metadata": {},
   "outputs": [
    {
     "name": "stdout",
     "output_type": "stream",
     "text": [
      "[LibLinear]Accuracy:  0.8214285714285713\n"
     ]
    }
   ],
   "source": [
    "classifying_with_linear_SVMs()"
   ]
  },
  {
   "attachments": {},
   "cell_type": "markdown",
   "metadata": {},
   "source": [
    "Kernel SVM"
   ]
  },
  {
   "cell_type": "code",
   "execution_count": 32,
   "metadata": {},
   "outputs": [],
   "source": [
    "def classifying_with_kernel_SVMs():\n",
    "    kernel_svm_train_X, kernel_svm_train_Y = load_data(\"../../Session 1/source/20news-bydate/20news-train-tfidf.txt\")\n",
    "    classifier = SVC(C = 50.0, kernel=\"rbf\", gamma=0.1, tol = 0.001, verbose=True)\n",
    "    classifier.fit(kernel_svm_train_X, kernel_svm_train_Y)\n",
    "\n",
    "    kernel_svm_test_X, kernel_svm_test_Y = load_data(\"../../Session 1//source/20news-bydate/20news-test-tfidf.txt\")\n",
    "    kernel_predicted_y = classifier.predict(kernel_svm_test_X)\n",
    "    kernel_accuracy = compute_accuracy_svm(kernel_predicted_y, kernel_svm_test_Y)\n",
    "    print (\"Accuracy: \" ,kernel_accuracy)"
   ]
  },
  {
   "cell_type": "code",
   "execution_count": 33,
   "metadata": {},
   "outputs": [
    {
     "name": "stdout",
     "output_type": "stream",
     "text": [
      "[LibSVM]"
     ]
    }
   ],
   "source": [
    "classifying_with_kernel_SVMs()"
   ]
  }
 ],
 "metadata": {
  "kernelspec": {
   "display_name": "Python 3",
   "language": "python",
   "name": "python3"
  },
  "language_info": {
   "codemirror_mode": {
    "name": "ipython",
    "version": 3
   },
   "file_extension": ".py",
   "mimetype": "text/x-python",
   "name": "python",
   "nbconvert_exporter": "python",
   "pygments_lexer": "ipython3",
   "version": "3.11.0"
  },
  "orig_nbformat": 4
 },
 "nbformat": 4,
 "nbformat_minor": 2
}
