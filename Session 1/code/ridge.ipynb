{
 "cells": [
  {
   "attachments": {},
   "cell_type": "markdown",
   "metadata": {},
   "source": [
    "Import libraries"
   ]
  },
  {
   "cell_type": "code",
   "execution_count": 1,
   "metadata": {},
   "outputs": [],
   "source": [
    "import pandas as pd\n",
    "import numpy as np\n",
    "import seaborn as sns\n",
    "import matplotlib.pyplot as plt\n",
    "from RidgeRegression import *"
   ]
  },
  {
   "attachments": {},
   "cell_type": "markdown",
   "metadata": {},
   "source": [
    "Read data"
   ]
  },
  {
   "cell_type": "code",
   "execution_count": 2,
   "metadata": {},
   "outputs": [],
   "source": [
    "with open(\"../source/x28.txt\") as f:\n",
    "    data = []\n",
    "    content = f.readlines()[72:]\n",
    "    for line in content:\n",
    "        line  = line.strip()\n",
    "        row = [float(i) for i in (line.split())[1:]]\n",
    "        data.append(row)\n",
    "    data = np.array(data)\n",
    "    np.savetxt(\"../source/deathRate.csv\", data, delimiter=\",\")\n",
    "X = data[:, :-1]\n",
    "Y = data[:, -1]"
   ]
  },
  {
   "attachments": {},
   "cell_type": "markdown",
   "metadata": {},
   "source": [
    "Normalize data"
   ]
  },
  {
   "cell_type": "code",
   "execution_count": 3,
   "metadata": {},
   "outputs": [],
   "source": [
    "def normalize_and_add_ones(X):\n",
    "    X = np.array(X)\n",
    "    X_max = np.max(X,axis=0)\n",
    "    X_min = np.min(X,axis=0)\n",
    "    X_normalized = (X-X_min) / (X_max-X_min)\n",
    "    ones = np.ones(X_normalized.shape[0])\n",
    "    return np.column_stack((ones,X_normalized))"
   ]
  },
  {
   "attachments": {},
   "cell_type": "markdown",
   "metadata": {},
   "source": [
    "Model"
   ]
  },
  {
   "cell_type": "code",
   "execution_count": 4,
   "metadata": {},
   "outputs": [],
   "source": [
    "X = normalize_and_add_ones(X)"
   ]
  },
  {
   "cell_type": "code",
   "execution_count": 5,
   "metadata": {},
   "outputs": [],
   "source": [
    "X_train,y_train = X[:50], Y[:50]\n",
    "X_test,y_test = X[50:], Y[50:]"
   ]
  },
  {
   "cell_type": "code",
   "execution_count": 6,
   "metadata": {},
   "outputs": [],
   "source": [
    "ridge_regression = RidgeRegression()\n",
    "best_LAMBDA = ridge_regression.getTheBestLAMBDA(X_train,y_train)"
   ]
  },
  {
   "cell_type": "code",
   "execution_count": 7,
   "metadata": {},
   "outputs": [
    {
     "name": "stdout",
     "output_type": "stream",
     "text": [
      "0.018\n"
     ]
    }
   ],
   "source": [
    "print(best_LAMBDA)"
   ]
  },
  {
   "cell_type": "code",
   "execution_count": 8,
   "metadata": {},
   "outputs": [
    {
     "name": "stdout",
     "output_type": "stream",
     "text": [
      "1416.5610862599565\n"
     ]
    }
   ],
   "source": [
    "W_learned = ridge_regression.fit(X_train,y_train,best_LAMBDA)\n",
    "y_predicted = ridge_regression.predict(W_learned,X_test)\n",
    "loss = ridge_regression.computeRSS(y_test,y_predicted)\n",
    "print(loss)\n"
   ]
  },
  {
   "cell_type": "code",
   "execution_count": 9,
   "metadata": {},
   "outputs": [
    {
     "name": "stdout",
     "output_type": "stream",
     "text": [
      "378945.0648043992\n",
      "1366.904809810874\n",
      "1013.8276943046799\n",
      "884.7943152573966\n",
      "831.1279315927135\n",
      "805.9854002459241\n",
      "792.8817110190073\n",
      "785.3938030462227\n",
      "780.7543597511042\n",
      "777.6621728250828\n"
     ]
    }
   ],
   "source": [
    "W_gradient = ridge_regression.fit_gradient(X_train,y_train,best_LAMBDA,batch_size=10,lr=0.01,epoch=1000)\n",
    "loss_gradient = ridge_regression.computeRSS(ridge_regression.predict(W_gradient,X_test),y_predicted)"
   ]
  },
  {
   "cell_type": "code",
   "execution_count": 10,
   "metadata": {},
   "outputs": [
    {
     "name": "stdout",
     "output_type": "stream",
     "text": [
      "0.5587491933513615\n"
     ]
    }
   ],
   "source": [
    "print(loss_gradient)"
   ]
  }
 ],
 "metadata": {
  "kernelspec": {
   "display_name": "Python 3",
   "language": "python",
   "name": "python3"
  },
  "language_info": {
   "codemirror_mode": {
    "name": "ipython",
    "version": 3
   },
   "file_extension": ".py",
   "mimetype": "text/x-python",
   "name": "python",
   "nbconvert_exporter": "python",
   "pygments_lexer": "ipython3",
   "version": "3.11.0"
  },
  "orig_nbformat": 4
 },
 "nbformat": 4,
 "nbformat_minor": 2
}
